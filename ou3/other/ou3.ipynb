{
 "cells": [
  {
   "cell_type": "code",
   "execution_count": 1,
   "id": "3fd630c2-1a0c-4456-95e8-fb4a9b9fb8c9",
   "metadata": {},
   "outputs": [],
   "source": [
    "import numpy as np\n",
    "import matplotlib\n",
    "import matplotlib.pyplot as plt\n"
   ]
  },
  {
   "cell_type": "code",
   "execution_count": 2,
   "id": "33d499a7-be13-434b-9404-06901f9f7954",
   "metadata": {},
   "outputs": [
    {
     "name": "stdout",
     "output_type": "stream",
     "text": [
      "(100, 11)\n"
     ]
    }
   ],
   "source": [
    "data = np.loadtxt(\"time.txt\")\n",
    "print(data.shape)\n",
    "\n",
    "num_threads = data[:, 0]\n",
    "time = data[:, 1:]\n",
    "mean_time = time.mean(1)\n",
    "std_time = time.std(1)\n",
    "\n",
    "speedup = mean_time.max()/mean_time"
   ]
  },
  {
   "cell_type": "code",
   "execution_count": 29,
   "id": "a025a1e6-5789-41f3-8c1f-746f2a672302",
   "metadata": {},
   "outputs": [
    {
     "data": {
      "image/png": "[encoded data removed]",
      "text/plain": [
       "<Figure size 360x360 with 2 Axes>"
      ]
     },
     "metadata": {
      "needs_background": "light"
     },
     "output_type": "display_data"
    }
   ],
   "source": [
    "fig, ax = plt.subplots(2, 1, figsize=(5, 5), sharex=True)\n",
    "ax = ax.flatten()\n",
    "\n",
    "ax[0].plot(num_threads, mean_time)\n",
    "ax[0].fill_between(num_threads, mean_time-2*std_time, mean_time+2*std_time, alpha=0.5)\n",
    "\n",
    "ax[1].plot(num_threads, speedup)\n",
    "\n",
    "#plt.plot(num_threads[mean_time.argmin()], mean_time.min(), 'ro')\n",
    "ax[0].set_ylabel(\"Time (s)\")\n",
    "ax[0].set_ylim(bottom=0)\n",
    "ax[1].set_ylabel(\"Speedup \")\n",
    "ax[1].set_xlabel(\"# Threads\")\n",
    "ax[1].set_ylim(bottom=0)\n",
    "\n",
    "\n",
    "plt.tight_layout()\n",
    "plt.savefig(\"time.pdf\")"
   ]
  },
  {
   "cell_type": "code",
   "execution_count": 4,
   "id": "c5a6afb8-2a8e-4bd8-b275-be39fb5161f1",
   "metadata": {},
   "outputs": [
    {
     "data": {
      "text/plain": [
       "24.0"
      ]
     },
     "execution_count": 4,
     "metadata": {},
     "output_type": "execute_result"
    }
   ],
   "source": [
    "num_threads[mean_time.argmin()]"
   ]
  },
  {
   "cell_type": "code",
   "execution_count": 5,
   "id": "94fb0451-39f9-4726-b955-6ae9946c5fe6",
   "metadata": {},
   "outputs": [
    {
     "data": {
      "text/plain": [
       "0.382"
      ]
     },
     "execution_count": 5,
     "metadata": {},
     "output_type": "execute_result"
    }
   ],
   "source": [
    "mean_time.min()"
   ]
  },
  {
   "cell_type": "code",
   "execution_count": 6,
   "id": "ceeaf021-abe0-4c92-ac77-999ca2b0f5f8",
   "metadata": {},
   "outputs": [
    {
     "data": {
      "text/plain": [
       "8.8434554973822"
      ]
     },
     "execution_count": 6,
     "metadata": {},
     "output_type": "execute_result"
    }
   ],
   "source": [
    "mean_time.max()/mean_time.min()"
   ]
  },
  {
   "cell_type": "code",
   "execution_count": 24,
   "id": "ba645c3a-f741-440a-9fdc-cca166e71c6b",
   "metadata": {},
   "outputs": [
    {
     "data": {
      "text/plain": [
       "0.11307797051684328"
      ]
     },
     "execution_count": 24,
     "metadata": {},
     "output_type": "execute_result"
    }
   ],
   "source": [
    "1/speedup.max()"
   ]
  },
  {
   "cell_type": "code",
   "execution_count": 30,
   "id": "8770c380-8345-4681-85aa-b17f0acf4619",
   "metadata": {},
   "outputs": [
    {
     "data": {
      "text/plain": [
       "8.8434554973822"
      ]
     },
     "execution_count": 30,
     "metadata": {},
     "output_type": "execute_result"
    }
   ],
   "source": [
    "speedup.max()"
   ]
  },
  {
   "cell_type": "code",
   "execution_count": 31,
   "id": "e9a4a080-fca7-4ba8-901f-bf0de8516d5d",
   "metadata": {},
   "outputs": [
    {
     "data": {
      "text/plain": [
       "0.11764705882352941"
      ]
     },
     "execution_count": 31,
     "metadata": {},
     "output_type": "execute_result"
    }
   ],
   "source": [
    "1/8.5"
   ]
  },
  {
   "cell_type": "code",
   "execution_count": null,
   "id": "0fdd4331-7c7c-4fed-89b6-5aba1a54275d",
   "metadata": {},
   "outputs": [],
   "source": []
  }
 ],
 "metadata": {
  "kernelspec": {
   "display_name": "Python 3 (ipykernel)",
   "language": "python",
   "name": "python3"
  },
  "language_info": {
   "codemirror_mode": {
    "name": "ipython",
    "version": 3
   },
   "file_extension": ".py",
   "mimetype": "text/x-python",
   "name": "python",
   "nbconvert_exporter": "python",
   "pygments_lexer": "ipython3",
   "version": "3.9.5"
  }
 },
 "nbformat": 4,
 "nbformat_minor": 5
}
